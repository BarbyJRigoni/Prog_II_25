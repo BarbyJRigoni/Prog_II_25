{
 "cells": [
  {
   "cell_type": "code",
   "execution_count": null,
   "id": "2c5da594",
   "metadata": {
    "vscode": {
     "languageId": "plaintext"
    }
   },
   "outputs": [],
   "source": [
    "nombre=\"Barbara\"\n",
    "edad=43\n",
    "print(\"Hola, soy \" + nombre + \" y tengo \" + str(edad) + \" años.\")"
   ]
  }
 ],
 "metadata": {
  "language_info": {
   "name": "python"
  }
 },
 "nbformat": 4,
 "nbformat_minor": 5
}
