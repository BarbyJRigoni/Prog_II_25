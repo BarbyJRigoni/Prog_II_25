{
 "cells": [
  {
   "cell_type": "markdown",
   "id": "f41c00d4",
   "metadata": {},
   "source": [
    "# Prueba"
   ]
  },
  {
   "cell_type": "code",
   "execution_count": null,
   "id": "11540929",
   "metadata": {
    "vscode": {
     "languageId": "plaintext"
    }
   },
   "outputs": [],
   "source": [
    "nombre=\"Barbara\"\n",
    "edad=43\n",
    "print(\"Hola, soy \" + nombre + \" y tengo \" + str(edad) + \" años.\")"
   ]
  }
 ],
 "metadata": {
  "language_info": {
   "name": "python"
  }
 },
 "nbformat": 4,
 "nbformat_minor": 5
}
