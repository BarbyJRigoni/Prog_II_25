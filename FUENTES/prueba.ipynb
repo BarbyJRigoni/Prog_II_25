{
 "cells": [
  {
   "cell_type": "markdown",
   "id": "f41c00d4",
   "metadata": {},
   "source": [
    "# Prueba"
   ]
  },
  {
   "cell_type": "code",
   "execution_count": 1,
   "id": "11540929",
   "metadata": {},
   "outputs": [
    {
     "name": "stdout",
     "output_type": "stream",
     "text": [
      "Hola, soy Barbara y tengo 43 años.\n"
     ]
    }
   ],
   "source": [
    "nombre=\"Barbara\"\n",
    "edad=43\n",
    "print(\"Hola, soy \" + nombre + \" y tengo \" + str(edad) + \" años.\")"
   ]
  }
 ],
 "metadata": {
  "kernelspec": {
   "display_name": "Python 3",
   "language": "python",
   "name": "python3"
  },
  "language_info": {
   "codemirror_mode": {
    "name": "ipython",
    "version": 3
   },
   "file_extension": ".py",
   "mimetype": "text/x-python",
   "name": "python",
   "nbconvert_exporter": "python",
   "pygments_lexer": "ipython3",
   "version": "3.12.3"
  }
 },
 "nbformat": 4,
 "nbformat_minor": 5
}
